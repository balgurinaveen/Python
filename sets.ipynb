{
 "cells": [
  {
   "cell_type": "code",
   "execution_count": 1,
   "id": "73f16d6a",
   "metadata": {},
   "outputs": [],
   "source": [
    "s1={2,3,4,5,6,4,6,5,6,7,8,8,9}"
   ]
  },
  {
   "cell_type": "code",
   "execution_count": 2,
   "id": "c2c7dc60",
   "metadata": {},
   "outputs": [
    {
     "name": "stdout",
     "output_type": "stream",
     "text": [
      "{2, 3, 4, 5, 6, 7, 8, 9}\n"
     ]
    }
   ],
   "source": [
    "print(s1)"
   ]
  },
  {
   "cell_type": "code",
   "execution_count": 3,
   "id": "8c6c65ce",
   "metadata": {},
   "outputs": [],
   "source": [
    "l1=[1,2,3,4,5,6,3,5,]"
   ]
  },
  {
   "cell_type": "code",
   "execution_count": 4,
   "id": "860fe179",
   "metadata": {},
   "outputs": [
    {
     "data": {
      "text/plain": [
       "{1, 2, 3, 4, 5, 6}"
      ]
     },
     "execution_count": 4,
     "metadata": {},
     "output_type": "execute_result"
    }
   ],
   "source": [
    "set(l1)"
   ]
  },
  {
   "cell_type": "code",
   "execution_count": 15,
   "id": "64454153",
   "metadata": {},
   "outputs": [],
   "source": [
    "#updating the set\n",
    "#sets.add() add the value it takes single value\n",
    "s = {1,2,3,4}\n",
    "s.add(6,)"
   ]
  },
  {
   "cell_type": "code",
   "execution_count": 16,
   "id": "3a5b8726",
   "metadata": {},
   "outputs": [
    {
     "name": "stdout",
     "output_type": "stream",
     "text": [
      "{1, 2, 3, 4, 6}\n"
     ]
    }
   ],
   "source": [
    "print(s)"
   ]
  },
  {
   "cell_type": "code",
   "execution_count": 17,
   "id": "0be7cf64",
   "metadata": {},
   "outputs": [],
   "source": [
    "#update() it add multiple values"
   ]
  },
  {
   "cell_type": "code",
   "execution_count": 18,
   "id": "4cfcd5bd",
   "metadata": {},
   "outputs": [],
   "source": [
    "s.update({11,10},[21,22])"
   ]
  },
  {
   "cell_type": "code",
   "execution_count": 19,
   "id": "f157691d",
   "metadata": {},
   "outputs": [
    {
     "name": "stdout",
     "output_type": "stream",
     "text": [
      "{1, 2, 3, 4, 6, 10, 11, 21, 22}\n"
     ]
    }
   ],
   "source": [
    "print(s)"
   ]
  },
  {
   "cell_type": "code",
   "execution_count": 20,
   "id": "75ff7919",
   "metadata": {},
   "outputs": [],
   "source": [
    "# deleting the values"
   ]
  },
  {
   "cell_type": "code",
   "execution_count": 23,
   "id": "dd16360f",
   "metadata": {},
   "outputs": [],
   "source": [
    "#remove() it removes the values, the value is not in the set it throughs a error\n",
    "\n",
    "s.remove(4)"
   ]
  },
  {
   "cell_type": "code",
   "execution_count": 24,
   "id": "b165fe15",
   "metadata": {},
   "outputs": [
    {
     "name": "stdout",
     "output_type": "stream",
     "text": [
      "{1, 2, 3, 6, 10, 11, 21, 22}\n"
     ]
    }
   ],
   "source": [
    "print(s)"
   ]
  },
  {
   "cell_type": "code",
   "execution_count": 25,
   "id": "fca63289",
   "metadata": {},
   "outputs": [],
   "source": [
    "#discard() it removes the provided value , the value is not present in set we couldnt get a error\n",
    "s.discard(7)"
   ]
  },
  {
   "cell_type": "code",
   "execution_count": 26,
   "id": "f1f7e4c8",
   "metadata": {},
   "outputs": [
    {
     "name": "stdout",
     "output_type": "stream",
     "text": [
      "{1, 2, 3, 6, 10, 11, 21, 22}\n"
     ]
    }
   ],
   "source": [
    "print(s)"
   ]
  },
  {
   "cell_type": "code",
   "execution_count": 27,
   "id": "02aad37e",
   "metadata": {},
   "outputs": [
    {
     "data": {
      "text/plain": [
       "1"
      ]
     },
     "execution_count": 27,
     "metadata": {},
     "output_type": "execute_result"
    }
   ],
   "source": [
    "#pop() it removes random value and store the value \n",
    "s.pop()"
   ]
  },
  {
   "cell_type": "code",
   "execution_count": 30,
   "id": "9bfd022e",
   "metadata": {},
   "outputs": [
    {
     "name": "stdout",
     "output_type": "stream",
     "text": [
      "set()\n"
     ]
    }
   ],
   "source": [
    "#clear() it removes the whole values in a set\n",
    "s.clear()\n",
    "print(s)"
   ]
  },
  {
   "cell_type": "code",
   "execution_count": 31,
   "id": "f352ec78",
   "metadata": {},
   "outputs": [],
   "source": [
    "### where to use sets###\n"
   ]
  },
  {
   "cell_type": "code",
   "execution_count": 34,
   "id": "02d40ef2",
   "metadata": {},
   "outputs": [
    {
     "name": "stdout",
     "output_type": "stream",
     "text": [
      "a union b: {1, 2, 3, 4, 5, 6, 7, 8, 9, 10}\n"
     ]
    }
   ],
   "source": [
    "#union() print all values both the sets \n",
    "\n",
    "a = {1,2,3,4,5,10}\n",
    "b = {6,7,8,9,2,3}\n",
    "print(\"a union b:\", a|b)"
   ]
  },
  {
   "cell_type": "code",
   "execution_count": 35,
   "id": "eed9f264",
   "metadata": {},
   "outputs": [
    {
     "name": "stdout",
     "output_type": "stream",
     "text": [
      "b union a: {1, 2, 3, 4, 5, 6, 7, 8, 9, 10}\n"
     ]
    }
   ],
   "source": [
    "print(\"b union a:\",b|a)"
   ]
  },
  {
   "cell_type": "code",
   "execution_count": 36,
   "id": "b6695e83",
   "metadata": {},
   "outputs": [
    {
     "name": "stdout",
     "output_type": "stream",
     "text": [
      "{2, 3}\n"
     ]
    }
   ],
   "source": [
    "#intersection() print the values common in both sets\n",
    "print(a&b)"
   ]
  },
  {
   "cell_type": "code",
   "execution_count": 37,
   "id": "9255e408",
   "metadata": {},
   "outputs": [
    {
     "name": "stdout",
     "output_type": "stream",
     "text": [
      "{1, 10, 4, 5}\n"
     ]
    }
   ],
   "source": [
    "#diffrence() print the values ex; a values not present in b\n",
    "print(a-b)"
   ]
  },
  {
   "cell_type": "code",
   "execution_count": 38,
   "id": "a12c1e2e",
   "metadata": {},
   "outputs": [
    {
     "name": "stdout",
     "output_type": "stream",
     "text": [
      "{8, 9, 6, 7}\n"
     ]
    }
   ],
   "source": [
    "print(b-a)"
   ]
  },
  {
   "cell_type": "code",
   "execution_count": 39,
   "id": "9694e4a7",
   "metadata": {},
   "outputs": [
    {
     "name": "stdout",
     "output_type": "stream",
     "text": [
      "{1, 4, 5, 6, 7, 8, 9, 10}\n"
     ]
    }
   ],
   "source": [
    "#symmetric() it remove common values in both sets\n",
    "print(a^b)"
   ]
  },
  {
   "cell_type": "code",
   "execution_count": null,
   "id": "ca8002e5",
   "metadata": {},
   "outputs": [],
   "source": []
  },
  {
   "cell_type": "code",
   "execution_count": 46,
   "id": "9da166b8",
   "metadata": {},
   "outputs": [],
   "source": [
    "d = { 'person detals' : [{'name:ramu','age:25','city:hyderabad'} , {'name:bhem','age:23','city:nalgonda'}]}"
   ]
  },
  {
   "cell_type": "code",
   "execution_count": 45,
   "id": "38ddcfbd",
   "metadata": {},
   "outputs": [
    {
     "ename": "SyntaxError",
     "evalue": "incomplete input (1502005200.py, line 1)",
     "output_type": "error",
     "traceback": [
      "\u001b[1;36m  Cell \u001b[1;32mIn[45], line 1\u001b[1;36m\u001b[0m\n\u001b[1;33m    for i in d.values():\u001b[0m\n\u001b[1;37m                        ^\u001b[0m\n\u001b[1;31mSyntaxError\u001b[0m\u001b[1;31m:\u001b[0m incomplete input\n"
     ]
    }
   ],
   "source": []
  },
  {
   "cell_type": "code",
   "execution_count": null,
   "id": "8d208fcb",
   "metadata": {},
   "outputs": [],
   "source": []
  }
 ],
 "metadata": {
  "kernelspec": {
   "display_name": "Python 3 (ipykernel)",
   "language": "python",
   "name": "python3"
  },
  "language_info": {
   "codemirror_mode": {
    "name": "ipython",
    "version": 3
   },
   "file_extension": ".py",
   "mimetype": "text/x-python",
   "name": "python",
   "nbconvert_exporter": "python",
   "pygments_lexer": "ipython3",
   "version": "3.10.9"
  }
 },
 "nbformat": 4,
 "nbformat_minor": 5
}
